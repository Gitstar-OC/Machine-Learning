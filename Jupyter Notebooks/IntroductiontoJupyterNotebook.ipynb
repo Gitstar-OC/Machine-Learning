{
 "cells": [
  {
   "cell_type": "markdown",
   "id": "935127e4",
   "metadata": {},
   "source": [
    "# Brief Introduction to Jupyter Notebooks\n",
    "Welcome to the first lab! \n",
    "Jupeyter notebooks are to:\n",
    "- provide information - like this notebook\n",
    "- reinforce lecture material with hands-on examples\n",
    "- provide working examples of routines."
   ]
  },
  {
   "cell_type": "markdown",
   "id": "2750de72",
   "metadata": {},
   "source": [
    "## Goals\n",
    "In this lab, you will:\n",
    "- Get a brief introduction to Jupyter notebooks\n",
    "- Take a tour of Jupyter notebooks\n",
    "- Explore some shortcuts\n",
    "- Learn the difference between markdown cells and code cells\n",
    "- Practice some basic python\n"
   ]
  },
  {
   "cell_type": "markdown",
   "id": "a65823e8",
   "metadata": {},
   "source": [
    "The easiest way to become familiar with Jupyter notebooks is to take the tour available above in the Help menu:"
   ]
  },
  {
   "cell_type": "markdown",
   "id": "34465ecc",
   "metadata": {},
   "source": [
    "<figure>\n",
    "    <center> <img src=\"./images/C1W1L1_Tour.PNG\"  alt='missing' width=\"400\"  ><center/>\n",
    "<figure/>"
   ]
  },
  {
   "cell_type": "markdown",
   "id": "f89a729a",
   "metadata": {},
   "source": [
    "Jupyter notebooks have two types of cells. Cells such as this which contain documentation called `Markdown Cells`. The name is derived from the simple formatting language used in the cells. You will not be required to produce markdown cells. Its useful to understand the `cell pulldown` shown in graphic below. Occasionally, a cell will end up in the wrong mode and you may need to restore it to the right state:\n",
    "\n",
    "I have edited this markdown cell ^_^"
   ]
  },
  {
   "cell_type": "markdown",
   "id": "d6115597",
   "metadata": {},
   "source": [
    "<figure>\n",
    "   <img src=\"./images/C1W1L1_Markdown.PNG\"  alt='missing' width=\"400\"  >\n",
    "<figure/>"
   ]
  },
  {
   "cell_type": "markdown",
   "id": "7e860892",
   "metadata": {},
   "source": [
    "The other type of cell is the `code cell` where you will write your code:"
   ]
  },
  {
   "cell_type": "code",
   "execution_count": null,
   "id": "a3017e20",
   "metadata": {},
   "outputs": [],
   "source": [
    "#This is  a 'Code' Cell\n",
    "print(\"This is  code cell, I know basic python and will master it in 2 months.\")"
   ]
  },
  {
   "cell_type": "markdown",
   "id": "5f612874",
   "metadata": {},
   "source": [
    "## Python\n",
    "You can write your code in the code cells. \n",
    "To run the code, select the cell and either\n",
    "- hold the shift-key down and hit 'enter' or 'return'\n",
    "- click the 'run' arrow above\n",
    "<figure>\n",
    "    <img src=\"./images/C1W1L1_Run.PNG\"  width=\"400\"  >\n",
    "<figure/>\n",
    "\n",
    " "
   ]
  },
  {
   "cell_type": "markdown",
   "id": "bd486bae",
   "metadata": {},
   "source": [
    "### Print statement\n",
    "Print statements will generally use the python f-string style.  \n",
    "Try creating your own print in the following cell.  \n",
    "Try both methods of running the cell."
   ]
  },
  {
   "cell_type": "code",
   "execution_count": null,
   "id": "5a735122",
   "metadata": {},
   "outputs": [],
   "source": [
    "# print statements\n",
    "variable = \"right in the strings!\"\n",
    "print(f\"f strings allow you to embed variables {variable}\")"
   ]
  },
  {
   "cell_type": "markdown",
   "id": "e8369489",
   "metadata": {},
   "source": [
    "# Congratulations!\n",
    "You now know how to find your way around a Jupyter Notebook below are some useful shortkuts in Notebook to help you"
   ]
  },
  {
   "cell_type": "markdown",
   "id": "f747d56c-13db-4b02-9ca8-b413073ba17c",
   "metadata": {},
   "source": [
    "## List of shortcuts available in Notebook\n",
    "\n",
    "### Command Mode Shortcuts (Press Esc to enter command mode)\n",
    "- A: Insert cell above current cell.\n",
    "- B: Insert cell below current cell.\n",
    "- M: Convert cell to Markdown.\n",
    "- Y: Convert cell to code.\n",
    "- D, D (press D twice): Delete current cell.\n",
    "- Shift + M: Merge selected cells.\n",
    "- Shift + Arrow Up/Down: Select multiple cells.\n",
    "- Enter: Enter edit mode.\n",
    "\n",
    "### Edit Mode Shortcuts (Press Enter to enter edit mode)\n",
    "- Ctrl + Enter: Run current cell.\n",
    "- Shift + Enter: Run current cell and select cell below.\n",
    "- Ctrl + S: Save notebook.\n",
    "- Ctrl + Shift + -: Split cell at cursor.\n",
    "- Ctrl + /: Comment/uncomment selected lines.\n",
    "\n",
    "### General Shortcuts (Work in both command and edit mode)\n",
    "- Ctrl + Shift + P: Open command palette.\n",
    "- Ctrl + Shift + F: Open the find and replace dialog.\n",
    "- Ctrl + Shift + L: Toggle line numbers.\n",
    "- Ctrl + F: Find in cells.\n",
    "- Esc + F: Find and replace in cells.\n",
    "- Shift + L: Toggle line numbers.\n",
    "\n",
    "### Navigation Shortcuts\n",
    "- Up/Down Arrow: Navigate cells.\n",
    "- Shift + Space: Scroll notebook up.\n",
    "- Space: Scroll notebook down.\n",
    "- Shift + L: Toggle line numbers.\n",
    "\n",
    "### Cell Manipulation Shortcuts\n",
    "- Ctrl + X: Cut selected cells.\n",
    "- Ctrl + C: Copy selected cells.\n",
    "- Ctrl + V: Paste cells below.\n",
    "- Alt + Shift + V: Paste cells above.\n",
    "+ Shift + V: Paste cells above."
   ]
  }
 ],
 "metadata": {
  "kernelspec": {
   "display_name": "Python 3 (ipykernel)",
   "language": "python",
   "name": "python3"
  },
  "language_info": {
   "codemirror_mode": {
    "name": "ipython",
    "version": 3
   },
   "file_extension": ".py",
   "mimetype": "text/x-python",
   "name": "python",
   "nbconvert_exporter": "python",
   "pygments_lexer": "ipython3",
   "version": "3.7.6"
  }
 },
 "nbformat": 4,
 "nbformat_minor": 5
}
